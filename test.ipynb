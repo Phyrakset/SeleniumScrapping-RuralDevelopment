{
 "cells": [
  {
   "cell_type": "code",
   "execution_count": 163,
   "metadata": {},
   "outputs": [],
   "source": [
    "# pip install upgrade selenium"
   ]
  },
  {
   "cell_type": "code",
   "execution_count": 164,
   "metadata": {},
   "outputs": [],
   "source": [
    "# pip install webdriver-manager"
   ]
  },
  {
   "cell_type": "code",
   "execution_count": 165,
   "metadata": {},
   "outputs": [],
   "source": [
    "from selenium import webdriver\n",
    "from selenium.webdriver.firefox.service import Service as FirefoxService\n",
    "from webdriver_manager.firefox import GeckoDriverManager\n",
    "from selenium.webdriver.common.by import By\n",
    "from selenium.webdriver.support.ui import WebDriverWait\n",
    "from selenium.webdriver.support import expected_conditions as EC\n",
    "\n"
   ]
  },
  {
   "cell_type": "code",
   "execution_count": 166,
   "metadata": {},
   "outputs": [],
   "source": [
    "# Set up the driver\n",
    "driver = webdriver.Firefox(service=FirefoxService(GeckoDriverManager().install()))\n",
    "# Open the website\n",
    "driver.get('https://www.cambodiapostalcode.com')\n",
    "WebDriverWait(driver, 10).until(\n",
    "        EC.invisibility_of_element_located((By.CLASS_NAME, 'q-dialog__backdrop'))\n",
    "    )\n",
    "khmer_language_button = WebDriverWait(driver, 10).until(\n",
    "        EC.element_to_be_clickable((By.XPATH, '/html/body/div[1]/div/header/div[1]/div/a[2]/div[2]/div'))\n",
    "    )\n",
    "khmer_language_button.click()"
   ]
  },
  {
   "cell_type": "code",
   "execution_count": 168,
   "metadata": {},
   "outputs": [
    {
     "name": "stdout",
     "output_type": "stream",
     "text": [
      "រាជធានី ភ្នំពេញ\n"
     ]
    }
   ],
   "source": [
    "province_tittle = WebDriverWait(driver, 10).until(\n",
    "        EC.presence_of_element_located((By.XPATH, '/html/body/div[1]/div/div/main/div[3]/div[2]/div[2]/div/div/a[1]'))\n",
    "    )\n",
    "# driver.execute_script(\"arguments[0].click();\", province_tittle)\n",
    "province_text=province_tittle.get_attribute('title')\n",
    "print(province_text)\n",
    "province_tittle.click()"
   ]
  },
  {
   "cell_type": "code",
   "execution_count": 169,
   "metadata": {},
   "outputs": [
    {
     "name": "stdout",
     "output_type": "stream",
     "text": [
      "ខណ្ឌ ៧មករា\n"
     ]
    }
   ],
   "source": [
    "districk_tittles = WebDriverWait(driver, 10).until(\n",
    "        EC.presence_of_all_elements_located((By.CSS_SELECTOR, '.col-xs-12.col-sm-12.col-md-4.col-xl-3.q-pa-sm'))\n",
    "    )\n",
    "districk_tittle=districk_tittles[0].find_element(By.XPATH, './a[1]')\n",
    "district_text = districk_tittle.get_attribute('title')\n",
    "print(district_text)\n",
    "districk_tittle.click()"
   ]
  },
  {
   "cell_type": "code",
   "execution_count": 190,
   "metadata": {},
   "outputs": [
    {
     "name": "stdout",
     "output_type": "stream",
     "text": [
      "សង្កាត់ បឹងព្រលិត\n"
     ]
    }
   ],
   "source": [
    "commune_tables = WebDriverWait(driver, 10).until(\n",
    "        EC.presence_of_element_located((By.CSS_SELECTOR, 'table.q-table'))\\\n",
    ")\n",
    "commune_rows=commune_tables.find_elements(By.TAG_NAME,'tr')\n",
    "commune_row = commune_rows[0].find_element(By.XPATH, './td[1]/span')\n",
    "commune_text=commune_row.get_attribute('title')\n",
    "print(commune_text)"
   ]
  },
  {
   "cell_type": "code",
   "execution_count": null,
   "metadata": {},
   "outputs": [],
   "source": []
  }
 ],
 "metadata": {
  "kernelspec": {
   "display_name": "Python 3",
   "language": "python",
   "name": "python3"
  },
  "language_info": {
   "codemirror_mode": {
    "name": "ipython",
    "version": 3
   },
   "file_extension": ".py",
   "mimetype": "text/x-python",
   "name": "python",
   "nbconvert_exporter": "python",
   "pygments_lexer": "ipython3",
   "version": "3.11.9"
  }
 },
 "nbformat": 4,
 "nbformat_minor": 2
}
