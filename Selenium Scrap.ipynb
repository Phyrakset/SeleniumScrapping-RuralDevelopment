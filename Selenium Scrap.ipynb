{
 "cells": [
  {
   "cell_type": "markdown",
   "metadata": {},
   "source": [
    "-----------------------------"
   ]
  },
  {
   "cell_type": "code",
   "execution_count": 85,
   "metadata": {},
   "outputs": [],
   "source": [
    "from selenium import webdriver\n",
    "from selenium.webdriver.firefox.service import Service as FirefoxService\n",
    "from webdriver_manager.firefox import GeckoDriverManager\n",
    "from selenium.webdriver.chrome.service import Service as ChromeService\n",
    "from selenium.webdriver.common.by import By\n",
    "from selenium.webdriver.support.ui import WebDriverWait\n",
    "from selenium.webdriver.support import expected_conditions as EC\n",
    "from selenium.common.exceptions import TimeoutException, StaleElementReferenceException\n",
    "import time\n",
    "from selenium.webdriver.common.action_chains import ActionChains\n",
    "\n",
    "class Browser:\n",
    "    def __init__(self):\n",
    "        # Initialize the driver attribute\n",
    "        self.driver = None\n",
    "\n",
    "    def firefox(self):\n",
    "        # Set up the Firefox driver using GeckoDriverManager\n",
    "        self.driver = webdriver.Firefox(service=FirefoxService(GeckoDriverManager().install()))\n",
    "        # Open the target website\n",
    "        self.driver.get('https://www.cambodiapostalcode.com')\n",
    "\n",
    "    def brave(self):\n",
    "        # Path to the Brave browser's chromedriver\n",
    "        chromedriver = \"D:/Ministry of Rural Development Intern/codes/MinistryOfRural-Development/Selenuim Scraping/ScrappingPeoject/SeleniumScrapping-RuralDevelopment/drivers/chromedriver.exe\"\n",
    "        \n",
    "        # Set up Chrome options for Brave browser\n",
    "        option = webdriver.ChromeOptions()\n",
    "        option.binary_location = 'C:/Program Files/BraveSoftware/Brave-Browser/Application/brave.exe'\n",
    "        \n",
    "        # Initialize the service with the specified chromedriver path\n",
    "        service = ChromeService(chromedriver)\n",
    "        \n",
    "        # Initialize the WebDriver with the service and options\n",
    "        self.driver = webdriver.Chrome(service=service, options=option)\n",
    "        \n",
    "        # Open the target website\n",
    "        self.driver.get('https://www.cambodiapostalcode.com')\n",
    "\n",
    "class KhmerInterface:\n",
    "    def __init__(self, driver):\n",
    "        # Initialize with an existing WebDriver instance\n",
    "        self.driver = driver\n",
    "\n",
    "    def click_khmer(self):\n",
    "        # Wait until the dialog backdrop is invisible\n",
    "        WebDriverWait(self.driver, 10).until(\n",
    "            EC.invisibility_of_element_located((By.CLASS_NAME, 'q-dialog__backdrop'))\n",
    "        )\n",
    "        \n",
    "        # Wait until the Khmer language button is clickable\n",
    "        khmer_language_button = WebDriverWait(self.driver, 10).until(\n",
    "            EC.element_to_be_clickable((By.XPATH, '/html/body/div[1]/div/header/div[1]/div/a[2]/div[2]/div'))\n",
    "        )\n",
    "        \n",
    "        # Click the Khmer language button\n",
    "        khmer_language_button.click()"
   ]
  },
  {
   "cell_type": "code",
   "execution_count": 86,
   "metadata": {},
   "outputs": [],
   "source": [
    "# Instantiate the Browser class and initialize the driver\n",
    "browser = Browser()\n",
    "browser.brave()  # or browser.firefox() if you want to use Firefox\n",
    "\n",
    "# Instantiate the KhmerInterface class with the driver\n",
    "khmer_interface = KhmerInterface(browser.driver)\n",
    "\n",
    "# Click the Khmer language button\n",
    "khmer_interface.click_khmer()"
   ]
  },
  {
   "cell_type": "code",
   "execution_count": 99,
   "metadata": {},
   "outputs": [
    {
     "name": "stdout",
     "output_type": "stream",
     "text": [
      "  District: រាជធានី ភ្នំពេញ\n",
      "  District: ខេត្ត កណ្តាល\n",
      "  District: ខេត្ត កែប\n",
      "  District: ខេត្ត កោះកុង\n",
      "  District: ខេត្ត ក្រចេះ\n",
      "  District: ខេត្ត កំពង់ចាម\n",
      "  District: ខេត្ត កំពង់ឆ្នាំង\n",
      "  District: ខេត្ត កំពង់ធំ\n",
      "  District: ខេត្ត កំពង់ស្ពឺ\n",
      "  District: ខេត្ត កំពត\n",
      "  District: ខេត្ត តាកែវ\n",
      "  District: ខេត្ត ត្បូងឃ្មុំ\n",
      "  District: ខេត្ត បន្ទាយមានជ័យ\n",
      "  District: ខេត្ត ប៉ៃលិន\n",
      "  District: ខេត្ត បាត់ដំបង\n",
      "  District: ខេត្ត ពោធិសាត់\n",
      "  District: ខេត្ត ព្រៃវែង\n",
      "  District: ខេត្ត ព្រះវិហារ\n",
      "  District: ខេត្ត ព្រះសីហនុ\n",
      "  District: ខេត្ត មណ្ឌលគិរី\n",
      "  District: ខេត្ត រតនគីរី\n",
      "  District: ខេត្ត សៀមរាប\n",
      "  District: ខេត្ត ស្ទឹងត្រែង\n",
      "  District: ខេត្ត ស្វាយរៀង\n",
      "  District: ខេត្ត ឧត្តរមានជ័យ\n"
     ]
    },
    {
     "ename": "IndexError",
     "evalue": "list index out of range",
     "output_type": "error",
     "traceback": [
      "\u001b[1;31m---------------------------------------------------------------------------\u001b[0m",
      "\u001b[1;31mIndexError\u001b[0m                                Traceback (most recent call last)",
      "Cell \u001b[1;32mIn[99], line 11\u001b[0m\n\u001b[0;32m      6\u001b[0m province_elements \u001b[38;5;241m=\u001b[39m WebDriverWait(browser\u001b[38;5;241m.\u001b[39mdriver, \u001b[38;5;241m30\u001b[39m)\u001b[38;5;241m.\u001b[39muntil(\n\u001b[0;32m      7\u001b[0m     EC\u001b[38;5;241m.\u001b[39mpresence_of_all_elements_located((By\u001b[38;5;241m.\u001b[39mCSS_SELECTOR, \u001b[38;5;124m'\u001b[39m\u001b[38;5;124m.col-xs-12.col-sm-12.col-md-4.col-xl-3.q-pa-sm\u001b[39m\u001b[38;5;124m'\u001b[39m))\n\u001b[0;32m      8\u001b[0m )\n\u001b[0;32m     10\u001b[0m \u001b[38;5;66;03m# Get the current district element\u001b[39;00m\n\u001b[1;32m---> 11\u001b[0m province_element \u001b[38;5;241m=\u001b[39m \u001b[43mprovince_elements\u001b[49m\u001b[43m[\u001b[49m\u001b[43mcount\u001b[49m\u001b[43m]\u001b[49m\n\u001b[0;32m     13\u001b[0m \u001b[38;5;66;03m# Find the title element and get the district name\u001b[39;00m\n\u001b[0;32m     14\u001b[0m district_title \u001b[38;5;241m=\u001b[39m province_element\u001b[38;5;241m.\u001b[39mfind_element(By\u001b[38;5;241m.\u001b[39mXPATH, \u001b[38;5;124m'\u001b[39m\u001b[38;5;124m./a[1]\u001b[39m\u001b[38;5;124m'\u001b[39m)\n",
      "\u001b[1;31mIndexError\u001b[0m: list index out of range"
     ]
    }
   ],
   "source": [
    "count = 0\n",
    "Province =[]\n",
    "\n",
    "while count <= 25:\n",
    "    # Locate the district elements using CSS Selector\n",
    "    province_elements = WebDriverWait(browser.driver, 30).until(\n",
    "        EC.presence_of_all_elements_located((By.CSS_SELECTOR, '.col-xs-12.col-sm-12.col-md-4.col-xl-3.q-pa-sm'))\n",
    "    )\n",
    "    \n",
    "    # Get the current district element\n",
    "    province_element = province_elements[count]\n",
    "    \n",
    "    # Find the title element and get the district name\n",
    "    district_title = province_element.find_element(By.XPATH, './a[1]')\n",
    "    province_name = district_title.get_attribute('title')\n",
    "    print(f\"  District: {province_name}\")\n",
    "    Province.append(province_name)\n",
    "\n",
    "    \n",
    "    # Ensure the element is in the viewport and click\n",
    "    # browser.driver.execute_script(\"arguments[0].scrollIntoView(true);\", district_title)\n",
    "\n",
    "    # browser.driver.execute_script(\"arguments[0].click();\", district_title)\n",
    "    # time.sleep(5)\n",
    "    # Click the skip button\n",
    "    # skip_button = WebDriverWait(browser.driver, 30).until(\n",
    "        # EC.element_to_be_clickable((By.XPATH, \"/html/body/div[3]/div[2]/div/div/button/span[2]\"))\n",
    "    # )\n",
    "    # skip_button.click()\n",
    "    \n",
    "    # Navigate back\n",
    "    # browser.driver.back()\n",
    "    \n",
    "    # Wait for the page to load\n",
    "    # time.sleep(10)\n",
    "    \n",
    "    count += 1"
   ]
  },
  {
   "cell_type": "code",
   "execution_count": 22,
   "metadata": {},
   "outputs": [],
   "source": [
    "# district_elements = WebDriverWait(browser.driver, 30).until(\n",
    "        # EC.presence_of_all_elements_located((By.CSS_SELECTOR, '.col-xs-12.col-sm-12.col-md-4.col-xl-3.q-pa-sm'))\n",
    "    # )\n",
    "    \n",
    "# while True:\n",
    "    # for district in district_elements:\n",
    "        # district_title = district.find_element(By.XPATH, './a[1]')\n",
    "        # district_name = district_title.get_attribute('title')\n",
    "        # print(f\"  District: {district_name}\")\n",
    "        # district_title.click()\n",
    "        # skip_button = browser.driver.find_element(By.XPATH, \"/html/body/div[3]/div[2]/div/div/button/span[2]\")\n",
    "        # Click the skip button\n",
    "        # skip_button.click()\n",
    "    # browser.driver.back()\n",
    "\n",
    "\n",
    "\n"
   ]
  },
  {
   "cell_type": "markdown",
   "metadata": {},
   "source": [
    "### 1. Province"
   ]
  },
  {
   "cell_type": "code",
   "execution_count": 4,
   "metadata": {},
   "outputs": [
    {
     "data": {
      "text/plain": [
       "25"
      ]
     },
     "execution_count": 4,
     "metadata": {},
     "output_type": "execute_result"
    }
   ],
   "source": [
    "province_elements = WebDriverWait(browser.driver, 30).until(\n",
    "        EC.presence_of_all_elements_located((By.CSS_SELECTOR, '.col-xs-12.col-sm-12.col-md-4.col-xl-3.q-pa-sm'))\n",
    "    )\n",
    "len(province_elements)"
   ]
  },
  {
   "cell_type": "code",
   "execution_count": 5,
   "metadata": {},
   "outputs": [
    {
     "data": {
      "text/plain": [
       "<selenium.webdriver.remote.webelement.WebElement (session=\"d566ac104850aa292c0fb0913a045438\", element=\"f.C5F5C2ABA2761868B6D5CDB7173B82AA.d.4D7776E650F22A2DAD57E64E13076787.e.164\")>"
      ]
     },
     "execution_count": 5,
     "metadata": {},
     "output_type": "execute_result"
    }
   ],
   "source": [
    "province_element = province_elements[0].find_element(By.XPATH, './a[1]')\n",
    "province_element"
   ]
  },
  {
   "cell_type": "code",
   "execution_count": 6,
   "metadata": {},
   "outputs": [
    {
     "data": {
      "text/plain": [
       "'រាជធានី ភ្នំពេញ'"
      ]
     },
     "execution_count": 6,
     "metadata": {},
     "output_type": "execute_result"
    }
   ],
   "source": [
    "province_tittle = province_element.get_attribute('title')\n",
    "province_tittle"
   ]
  },
  {
   "cell_type": "code",
   "execution_count": 7,
   "metadata": {},
   "outputs": [],
   "source": [
    "province_element.click()"
   ]
  },
  {
   "cell_type": "markdown",
   "metadata": {},
   "source": [
    "### 2. District"
   ]
  },
  {
   "cell_type": "code",
   "execution_count": 9,
   "metadata": {},
   "outputs": [
    {
     "data": {
      "text/plain": [
       "57"
      ]
     },
     "execution_count": 9,
     "metadata": {},
     "output_type": "execute_result"
    }
   ],
   "source": [
    "district_elements = WebDriverWait(browser.driver, 30).until(\n",
    "        EC.presence_of_all_elements_located((By.CSS_SELECTOR, '.col-xs-12.col-sm-12.col-md-4.col-xl-3.q-pa-sm'))\n",
    "    )\n",
    "len(district_elements)"
   ]
  },
  {
   "cell_type": "code",
   "execution_count": 10,
   "metadata": {},
   "outputs": [
    {
     "data": {
      "text/plain": [
       "<selenium.webdriver.remote.webelement.WebElement (session=\"d566ac104850aa292c0fb0913a045438\", element=\"f.C5F5C2ABA2761868B6D5CDB7173B82AA.d.4D7776E650F22A2DAD57E64E13076787.e.229\")>"
      ]
     },
     "execution_count": 10,
     "metadata": {},
     "output_type": "execute_result"
    }
   ],
   "source": [
    "district_element = district_elements[1].find_element(By.XPATH, './a[1]')\n",
    "district_element"
   ]
  },
  {
   "cell_type": "code",
   "execution_count": 11,
   "metadata": {},
   "outputs": [
    {
     "data": {
      "text/plain": [
       "'ខណ្ឌ ច្បារអំពៅ'"
      ]
     },
     "execution_count": 11,
     "metadata": {},
     "output_type": "execute_result"
    }
   ],
   "source": [
    "district_tittle = district_element.get_attribute('title')\n",
    "district_tittle"
   ]
  },
  {
   "cell_type": "code",
   "execution_count": 12,
   "metadata": {},
   "outputs": [],
   "source": [
    "district_element.click()"
   ]
  },
  {
   "cell_type": "markdown",
   "metadata": {},
   "source": [
    "### 3. Commune"
   ]
  },
  {
   "cell_type": "code",
   "execution_count": 34,
   "metadata": {},
   "outputs": [
    {
     "data": {
      "text/plain": [
       "<selenium.webdriver.remote.webelement.WebElement (session=\"d566ac104850aa292c0fb0913a045438\", element=\"f.C5F5C2ABA2761868B6D5CDB7173B82AA.d.4D7776E650F22A2DAD57E64E13076787.e.1236\")>"
      ]
     },
     "execution_count": 34,
     "metadata": {},
     "output_type": "execute_result"
    }
   ],
   "source": [
    "# Wait for the commune elements to be present\n",
    "commune_tables = WebDriverWait(browser.driver, 30).until(\n",
    "    EC.presence_of_element_located((By.CSS_SELECTOR, 'table.q-table'))\n",
    ")\n",
    "commune_tables"
   ]
  },
  {
   "cell_type": "code",
   "execution_count": 35,
   "metadata": {},
   "outputs": [
    {
     "data": {
      "text/plain": [
       "1"
      ]
     },
     "execution_count": 35,
     "metadata": {},
     "output_type": "execute_result"
    }
   ],
   "source": [
    "commune_rows = commune_tables.find_elements(By.TAG_NAME, 'tr')\n",
    "len(commune_rows)"
   ]
  },
  {
   "cell_type": "markdown",
   "metadata": {},
   "source": [
    "#### if village"
   ]
  },
  {
   "cell_type": "code",
   "execution_count": 36,
   "metadata": {},
   "outputs": [
    {
     "data": {
      "text/plain": [
       "'សង្កាត់ ច្បារអំពៅទី ១'"
      ]
     },
     "execution_count": 36,
     "metadata": {},
     "output_type": "execute_result"
    }
   ],
   "source": [
    "commune_title = commune_rows[0].text\n",
    "commune_title = commune_title.split()[:3]\n",
    "commune_title = ' '.join(commune_title)\n",
    "commune_title"
   ]
  },
  {
   "cell_type": "code",
   "execution_count": 16,
   "metadata": {},
   "outputs": [],
   "source": [
    "# print(commune_rows[0].get_attribute('outerHTML'))"
   ]
  },
  {
   "cell_type": "code",
   "execution_count": 18,
   "metadata": {},
   "outputs": [
    {
     "data": {
      "text/plain": [
       "<selenium.webdriver.remote.webelement.WebElement (session=\"d566ac104850aa292c0fb0913a045438\", element=\"f.C5F5C2ABA2761868B6D5CDB7173B82AA.d.4D7776E650F22A2DAD57E64E13076787.e.245\")>"
      ]
     },
     "execution_count": 18,
     "metadata": {},
     "output_type": "execute_result"
    }
   ],
   "source": [
    "# Attempt to find the element again with a corrected XPath\n",
    "commune_element = commune_rows[0].find_element(By.XPATH, './/td/a[1]')\n",
    "commune_element"
   ]
  },
  {
   "cell_type": "code",
   "execution_count": 19,
   "metadata": {},
   "outputs": [],
   "source": [
    "commune_element.click()"
   ]
  },
  {
   "cell_type": "markdown",
   "metadata": {},
   "source": [
    "### 4. Village"
   ]
  },
  {
   "cell_type": "code",
   "execution_count": 42,
   "metadata": {},
   "outputs": [
    {
     "data": {
      "text/plain": [
       "<selenium.webdriver.remote.webelement.WebElement (session=\"d566ac104850aa292c0fb0913a045438\", element=\"f.C5F5C2ABA2761868B6D5CDB7173B82AA.d.4D7776E650F22A2DAD57E64E13076787.e.1779\")>"
      ]
     },
     "execution_count": 42,
     "metadata": {},
     "output_type": "execute_result"
    }
   ],
   "source": [
    "# Wait for the commune elements to be present\n",
    "village_tables = WebDriverWait(browser.driver, 30).until(\n",
    "    EC.presence_of_element_located((By.CSS_SELECTOR, 'table.q-table'))\n",
    ")\n",
    "village_tables"
   ]
  },
  {
   "cell_type": "code",
   "execution_count": 46,
   "metadata": {},
   "outputs": [
    {
     "data": {
      "text/plain": [
       "[<selenium.webdriver.remote.webelement.WebElement (session=\"d566ac104850aa292c0fb0913a045438\", element=\"f.C5F5C2ABA2761868B6D5CDB7173B82AA.d.4D7776E650F22A2DAD57E64E13076787.e.1781\")>]"
      ]
     },
     "execution_count": 46,
     "metadata": {},
     "output_type": "execute_result"
    }
   ],
   "source": [
    "village_rows = village_tables.find_elements(By.TAG_NAME, 'tr')\n",
    "village_rows"
   ]
  },
  {
   "cell_type": "code",
   "execution_count": 53,
   "metadata": {},
   "outputs": [],
   "source": [
    "village_element=village_rows[0].find_elements(By.TAG_NAME, 'td')"
   ]
  },
  {
   "cell_type": "code",
   "execution_count": 30,
   "metadata": {},
   "outputs": [],
   "source": [
    "table = WebDriverWait(browser.driver, 10).until(\n",
    "        EC.presence_of_element_located((By.CSS_SELECTOR, '.q-markup-table .q-table'))\n",
    "    )\n",
    "table.get_attribute('outhtml')"
   ]
  },
  {
   "cell_type": "code",
   "execution_count": null,
   "metadata": {},
   "outputs": [],
   "source": []
  },
  {
   "cell_type": "code",
   "execution_count": 66,
   "metadata": {},
   "outputs": [
    {
     "data": {
      "text/plain": [
       "[]"
      ]
     },
     "execution_count": 66,
     "metadata": {},
     "output_type": "execute_result"
    }
   ],
   "source": [
    "# Find the elements containing the text\n",
    "elements = browser.driver.find_elements(By.XPATH, '//div[@class=\"q-markup-table q-table__container q-table__card q-table--horizontal-separator q-table--flat q-table--bordered q-table--no-wrap bg-grey-3\"]//td')\n",
    "elements"
   ]
  },
  {
   "cell_type": "code",
   "execution_count": 65,
   "metadata": {},
   "outputs": [],
   "source": [
    "# Find the elements containing the text\n",
    "elements = browser.driver.find_elements(By.XPATH, '//div[@class=\"q-markup-table q-table__container q-table__card q-table--horizontal-separator q-table--flat q-table--bordered q-table--no-wrap bg-grey-3\"]//td')\n",
    "\n",
    "# Extract and print the text from each element\n",
    "for element in elements:\n",
    "    text = element.text\n",
    "    print(text)"
   ]
  },
  {
   "cell_type": "code",
   "execution_count": 37,
   "metadata": {},
   "outputs": [
    {
     "name": "stdout",
     "output_type": "stream",
     "text": [
      "\n"
     ]
    }
   ],
   "source": [
    "# Locate the table\n",
    "table = browser.driver.find_element(By.CSS_SELECTOR, 'table.q-table')\n",
    "\n",
    "# Extract the village names from the table\n",
    "villages = table.find_elements(By.TAG_NAME, 'tr')\n",
    "\n",
    "village_names = [village.get_attribute('title') for village in villages]\n",
    "\n",
    "# Print the village names\n",
    "for name in village_names:\n",
    "    print(name)"
   ]
  },
  {
   "cell_type": "markdown",
   "metadata": {},
   "source": [
    "#### if not village"
   ]
  },
  {
   "cell_type": "code",
   "execution_count": 70,
   "metadata": {},
   "outputs": [
    {
     "data": {
      "text/plain": [
       "<selenium.webdriver.remote.webelement.WebElement (session=\"d566ac104850aa292c0fb0913a045438\", element=\"f.C5F5C2ABA2761868B6D5CDB7173B82AA.d.4D7776E650F22A2DAD57E64E13076787.e.2434\")>"
      ]
     },
     "execution_count": 70,
     "metadata": {},
     "output_type": "execute_result"
    }
   ],
   "source": [
    "commune_tables = WebDriverWait(browser.driver, 30).until(\n",
    "    EC.presence_of_element_located((By.CSS_SELECTOR, 'table.q-table'))\n",
    ")\n",
    "commune_tables"
   ]
  },
  {
   "cell_type": "code",
   "execution_count": 72,
   "metadata": {},
   "outputs": [
    {
     "data": {
      "text/plain": [
       "[<selenium.webdriver.remote.webelement.WebElement (session=\"d566ac104850aa292c0fb0913a045438\", element=\"f.C5F5C2ABA2761868B6D5CDB7173B82AA.d.4D7776E650F22A2DAD57E64E13076787.e.2436\")>]"
      ]
     },
     "execution_count": 72,
     "metadata": {},
     "output_type": "execute_result"
    }
   ],
   "source": [
    "commune_rows = commune_tables.find_elements(By.TAG_NAME, 'tr')\n",
    "commune_rows"
   ]
  },
  {
   "cell_type": "code",
   "execution_count": 73,
   "metadata": {},
   "outputs": [
    {
     "name": "stdout",
     "output_type": "stream",
     "text": [
      "    Commune element not found in this row.\n"
     ]
    }
   ],
   "source": [
    "from selenium.common.exceptions import NoSuchElementException\n",
    "for commune_row in commune_rows:\n",
    "    try:\n",
    "        commune_text = commune_row.find_element(By.XPATH, './td[1]/span')\n",
    "        print(f\"    Commune: {commune_text.get_attribute('title')}\")\n",
    "    except NoSuchElementException:\n",
    "        print(\"    Commune element not found in this row.\")"
   ]
  },
  {
   "cell_type": "code",
   "execution_count": 77,
   "metadata": {},
   "outputs": [
    {
     "data": {
      "text/plain": [
       "<selenium.webdriver.remote.webelement.WebElement (session=\"d566ac104850aa292c0fb0913a045438\", element=\"f.C5F5C2ABA2761868B6D5CDB7173B82AA.d.4D7776E650F22A2DAD57E64E13076787.e.2435\")>"
      ]
     },
     "execution_count": 77,
     "metadata": {},
     "output_type": "execute_result"
    }
   ],
   "source": [
    "WebDriverWait(browser.driver, 30).until(\n",
    "    EC.presence_of_element_located((By.CSS_SELECTOR, 'table.q-table tbody'))\n",
    ")"
   ]
  },
  {
   "cell_type": "code",
   "execution_count": 241,
   "metadata": {},
   "outputs": [
    {
     "data": {
      "text/plain": [
       "'សង្កាត់ បឹងព្រលិត'"
      ]
     },
     "execution_count": 241,
     "metadata": {},
     "output_type": "execute_result"
    }
   ],
   "source": [
    "commune_tittle=commune_row.get_attribute('title')\n",
    "commune_tittle"
   ]
  },
  {
   "cell_type": "markdown",
   "metadata": {},
   "source": [
    "### 4. For ខណ្ឌ ច្បារអំពៅ"
   ]
  },
  {
   "cell_type": "code",
   "execution_count": null,
   "metadata": {},
   "outputs": [],
   "source": [
    "# Wait for the commune elements to be present\n",
    "commune_tables = WebDriverWait(browser.driver, 30).until(\n",
    "    EC.presence_of_element_located((By.CSS_SELECTOR, 'table.q-table'))\n",
    ")\n",
    "commune_rows = commune_tables.find_elements(By.TAG_NAME, 'tr')\n",
    "for commune_row in commune_rows:\n",
    "    commune_text = commune_row.find_element(By.XPATH, './td[1]/span')\n",
    "    print(f\"    Commune: {commune_text.get_attribute('title')}\")"
   ]
  },
  {
   "cell_type": "code",
   "execution_count": 84,
   "metadata": {},
   "outputs": [],
   "source": [
    "browser.driver.back()"
   ]
  },
  {
   "cell_type": "code",
   "execution_count": null,
   "metadata": {},
   "outputs": [],
   "source": []
  }
 ],
 "metadata": {
  "kernelspec": {
   "display_name": "Python 3",
   "language": "python",
   "name": "python3"
  },
  "language_info": {
   "codemirror_mode": {
    "name": "ipython",
    "version": 3
   },
   "file_extension": ".py",
   "mimetype": "text/x-python",
   "name": "python",
   "nbconvert_exporter": "python",
   "pygments_lexer": "ipython3",
   "version": "3.11.9"
  }
 },
 "nbformat": 4,
 "nbformat_minor": 2
}
