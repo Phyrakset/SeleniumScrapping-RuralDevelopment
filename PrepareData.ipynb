{
 "cells": [
  {
   "cell_type": "code",
   "execution_count": 3,
   "metadata": {},
   "outputs": [
    {
     "name": "stderr",
     "output_type": "stream",
     "text": [
      "C:\\Users\\SOPHY\\AppData\\Local\\Packages\\PythonSoftwareFoundation.Python.3.11_qbz5n2kfra8p0\\LocalCache\\local-packages\\Python311\\site-packages\\openpyxl\\reader\\workbook.py:118: UserWarning: Print area cannot be set to Defined name: ទិន្នន័យបញ្ជូលCDB!$1:$4.\n",
      "  warn(f\"Print area cannot be set to Defined name: {defn.value}.\")\n",
      "C:\\Users\\SOPHY\\AppData\\Local\\Temp\\ipykernel_17252\\777135876.py:19: FutureWarning: DataFrame.applymap has been deprecated. Use DataFrame.map instead.\n",
      "  df_clean = df_clean.applymap(remove_spaces_from_khmer)\n"
     ]
    }
   ],
   "source": [
    "import pandas as pd\n",
    "from khmernltk import word_tokenize\n",
    "import re\n",
    "\n",
    "df = pd.read_excel('K.POT.xlsm(1) simple form.xlsm', sheet_name='ខេត្តបាត់ដំបង')  # Adjust the sheet name as needed\n",
    "# Drop the first 5 rows (index 0 to 4)\n",
    "df_clean = df.drop(index=[0, 1, 2, 3, 4])\n",
    "# Function to remove spaces from Khmer text\n",
    "def remove_spaces_from_khmer(text):\n",
    "    if isinstance(text, str):\n",
    "        # Regex to match Khmer characters\n",
    "        khmer_regex = r'[\\u1780-\\u17FF]+'\n",
    "        # Remove spaces in Khmer text\n",
    "        if re.search(khmer_regex, text):\n",
    "            return re.sub(r'\\s+', '', text)\n",
    "    return text\n",
    "\n",
    "# Apply the function to the entire DataFrame\n",
    "df_clean = df_clean.applymap(remove_spaces_from_khmer)\n",
    "\n",
    "# Save the modified DataFrame to a new Excel file\n",
    "df_clean.to_excel('modified_file_ខេត្តបាត់ដំបង.xlsx', index=False)"
   ]
  }
 ],
 "metadata": {
  "kernelspec": {
   "display_name": "Python 3",
   "language": "python",
   "name": "python3"
  },
  "language_info": {
   "codemirror_mode": {
    "name": "ipython",
    "version": 3
   },
   "file_extension": ".py",
   "mimetype": "text/x-python",
   "name": "python",
   "nbconvert_exporter": "python",
   "pygments_lexer": "ipython3",
   "version": "3.11.9"
  }
 },
 "nbformat": 4,
 "nbformat_minor": 2
}
